{
 "cells": [
  {
   "cell_type": "markdown",
   "metadata": {},
   "source": [
    "# PyTorch: IBA (Per-Sample Bottleneck)\n",
    "\n",
    "This notebook shows how to apply the Per-Sample Bottleneck to pretrained ImageNet models. \n",
    "\n",
    "Ensure that `./imagenet` points to your copy of the ImageNet dataset. \n",
    "\n",
    "You might want to create a symlink:"
   ]
  },
  {
   "cell_type": "code",
   "execution_count": null,
   "metadata": {},
   "outputs": [],
   "source": [
    "# ! ln -s /path/to/your/imagenet/folder/ imagenet "
   ]
  },
  {
   "cell_type": "code",
   "execution_count": null,
   "metadata": {},
   "outputs": [],
   "source": [
    "%env CUDA_VISIBLE_DEVICES=1"
   ]
  },
  {
   "cell_type": "code",
   "execution_count": null,
   "metadata": {},
   "outputs": [],
   "source": [
    "from IBA.tensorflow_v1 import IBACopyInnvestigate, model_wo_softmax, get_imagenet_generator\n",
    "from IBA.utils import load_monkeys, plot_saliency_map\n",
    "from keras.applications.vgg16 import VGG16, preprocess_input\n",
    "\n",
    "# points to the imagenet validation dir\n",
    "imagenet_dir = 'imagenet/validation'\n",
    "\n",
    "# load model & remove the final softmax layer\n",
    "model_softmax = VGG16(weights='imagenet')\n",
    "model = model_wo_softmax(model_softmax)\n",
    "\n",
    "# after layer block4_conv1 the bottleneck will be added\n",
    "feat_layer = model.get_layer(name='block4_conv1')\n",
    "\n",
    "# add the bottleneck by coping the model\n",
    "iba = IBACopyInnvestigate(\n",
    "    model,\n",
    "    neuron_selection_mode='index',\n",
    "    feature_name=feat_layer.output.name,\n",
    ")\n",
    "\n",
    "# estimate feature mean and std\n",
    "val_gen = get_imagenet_generator(imagenet_dir)\n",
    "iba.fit_generator(val_gen, steps_per_epoch=50)\n",
    "\n",
    "# load image\n",
    "monkeys, target = load_monkeys()\n",
    "monkeys_scaled =  preprocess_input(monkeys)\n",
    "\n",
    "# get the saliency map and plot\n",
    "saliency_map = iba.analyze(monkeys_scaled[None], neuron_selection=target)\n",
    "plot_saliency_map(saliency_map, img=monkeys)"
   ]
  },
  {
   "cell_type": "code",
   "execution_count": null,
   "metadata": {},
   "outputs": [],
   "source": []
  }
 ],
 "metadata": {
  "kernelspec": {
   "display_name": "Python [conda env:tfv1]",
   "language": "python",
   "name": "conda-env-tfv1-py"
  },
  "language_info": {
   "codemirror_mode": {
    "name": "ipython",
    "version": 3
   },
   "file_extension": ".py",
   "mimetype": "text/x-python",
   "name": "python",
   "nbconvert_exporter": "python",
   "pygments_lexer": "ipython3",
   "version": "3.7.6"
  }
 },
 "nbformat": 4,
 "nbformat_minor": 4
}
